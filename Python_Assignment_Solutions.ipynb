{
 "cells": [
  {
   "cell_type": "markdown",
   "id": "b2a7daaf",
   "metadata": {},
   "source": [
    "# Python Functions & DSA Assignment Solutions"
   ]
  },
  {
   "cell_type": "markdown",
   "id": "21baf070",
   "metadata": {},
   "source": [
    "\n",
    "## 📘 Theory Questions with Examples\n",
    "\n",
    "### 1. Difference between function and method in Python\n",
    "```python\n",
    "def add(a, b):   # function\n",
    "    return a + b\n",
    "\n",
    "class Math:\n",
    "    def multiply(self, x, y):  # method\n",
    "        return x * y\n",
    "```\n",
    "---\n",
    "### 2. Function arguments and parameters\n",
    "```python\n",
    "def greet(name):   # name = parameter\n",
    "    return f\"Hello {name}\"\n",
    "\n",
    "print(greet(\"Rahul\"))  # \"Rahul\" = argument\n",
    "```\n",
    "---\n",
    "### 3. Ways to define and call a function\n",
    "```python\n",
    "def f1(a, b=5): return a+b\n",
    "print(f1(2))           # default argument\n",
    "print(f1(b=4, a=6))    # keyword argument\n",
    "```\n",
    "---\n",
    "### 4. Purpose of return statement\n",
    "```python\n",
    "def square(x): return x*x\n",
    "print(square(5))  # 25\n",
    "```\n",
    "---\n",
    "### 5. Iterators vs Iterables\n",
    "```python\n",
    "nums = [1, 2, 3]\n",
    "it = iter(nums)   # iterator\n",
    "print(next(it))   # 1\n",
    "```\n",
    "---\n",
    "### 6. Generators in Python\n",
    "```python\n",
    "def gen():\n",
    "    for i in range(3):\n",
    "        yield i\n",
    "for val in gen():\n",
    "    print(val)\n",
    "```\n",
    "---\n",
    "### 7. Advantages of Generators\n",
    "- Memory efficient (lazy evaluation)\n",
    "- Easy to implement iterators\n",
    "---\n",
    "### 8. Lambda Function\n",
    "```python\n",
    "square = lambda x: x**2\n",
    "print(square(5))  # 25\n",
    "```\n",
    "---\n",
    "### 9. Purpose of map()\n",
    "```python\n",
    "nums = [1, 2, 3]\n",
    "print(list(map(lambda x: x*2, nums)))  # [2, 4, 6]\n",
    "```\n",
    "---\n",
    "### 10. Difference between map, reduce, filter\n",
    "```python\n",
    "from functools import reduce\n",
    "nums = [1,2,3,4]\n",
    "print(list(map(lambda x:x*2, nums)))      # [2,4,6,8]\n",
    "print(list(filter(lambda x:x%2==0, nums)))# [2,4]\n",
    "print(reduce(lambda x,y:x+y, nums))       # 10\n",
    "```\n",
    "---\n",
    "### 11. Internal mechanism of reduce on [47,11,42,13]\n",
    "```\n",
    "= (((47+11)+42)+13)\n",
    "= (58+42)+13\n",
    "= 100+13\n",
    "= 113\n",
    "```\n"
   ]
  },
  {
   "cell_type": "markdown",
   "id": "35d56d52",
   "metadata": {},
   "source": [
    "## 🖥️ Practical Questions Solutions"
   ]
  },
  {
   "cell_type": "markdown",
   "id": "b9e30b66",
   "metadata": {},
   "source": [
    "### 1. Sum of even numbers"
   ]
  },
  {
   "cell_type": "code",
   "execution_count": null,
   "id": "4ddf210c",
   "metadata": {},
   "outputs": [],
   "source": [
    "def sum_even(nums):\n",
    "    return sum(x for x in nums if x%2==0)\n",
    "print(sum_even([1,2,3,4,5,6]))"
   ]
  },
  {
   "cell_type": "markdown",
   "id": "52c5f39d",
   "metadata": {},
   "source": [
    "### 2. Reverse a string"
   ]
  },
  {
   "cell_type": "code",
   "execution_count": null,
   "id": "50071281",
   "metadata": {},
   "outputs": [],
   "source": [
    "def reverse_str(s):\n",
    "    return s[::-1]\n",
    "print(reverse_str(\"hello\"))"
   ]
  },
  {
   "cell_type": "markdown",
   "id": "53cac7c8",
   "metadata": {},
   "source": [
    "### 3. Squares of list"
   ]
  },
  {
   "cell_type": "code",
   "execution_count": null,
   "id": "18f3a843",
   "metadata": {},
   "outputs": [],
   "source": [
    "def squares(lst):\n",
    "    return [x**2 for x in lst]\n",
    "print(squares([1,2,3]))"
   ]
  },
  {
   "cell_type": "markdown",
   "id": "489ae277",
   "metadata": {},
   "source": [
    "### 4. Prime numbers 1–200"
   ]
  },
  {
   "cell_type": "code",
   "execution_count": null,
   "id": "21ff5cb3",
   "metadata": {},
   "outputs": [],
   "source": [
    "def is_prime(n):\n",
    "    if n<2: return False\n",
    "    for i in range(2, int(n**0.5)+1):\n",
    "        if n%i==0: return False\n",
    "    return True\n",
    "\n",
    "primes = [x for x in range(1,201) if is_prime(x)]\n",
    "print(primes)"
   ]
  },
  {
   "cell_type": "markdown",
   "id": "8bf82e4d",
   "metadata": {},
   "source": [
    "### 5. Fibonacci Iterator"
   ]
  },
  {
   "cell_type": "code",
   "execution_count": null,
   "id": "afd3e6d6",
   "metadata": {},
   "outputs": [],
   "source": [
    "class Fibonacci:\n",
    "    def __init__(self, n):\n",
    "        self.n, self.a, self.b, self.count = n, 0, 1, 0\n",
    "    def __iter__(self): return self\n",
    "    def __next__(self):\n",
    "        if self.count>=self.n: raise StopIteration\n",
    "        self.count+=1\n",
    "        val=self.a\n",
    "        self.a,self.b=self.b,self.a+self.b\n",
    "        return val\n",
    "\n",
    "for num in Fibonacci(10):\n",
    "    print(num, end=\" \")"
   ]
  },
  {
   "cell_type": "markdown",
   "id": "fe9ccdf4",
   "metadata": {},
   "source": [
    "### 6. Generator for powers of 2"
   ]
  },
  {
   "cell_type": "code",
   "execution_count": null,
   "id": "b76e5386",
   "metadata": {},
   "outputs": [],
   "source": [
    "def powers_of_two(n):\n",
    "    for i in range(n+1):\n",
    "        yield 2**i\n",
    "\n",
    "print(list(powers_of_two(5)))"
   ]
  },
  {
   "cell_type": "markdown",
   "id": "ebb71a6a",
   "metadata": {},
   "source": [
    "### 7. File line generator"
   ]
  },
  {
   "cell_type": "code",
   "execution_count": null,
   "id": "60a6bedb",
   "metadata": {},
   "outputs": [],
   "source": [
    "def read_file(fname):\n",
    "    with open(fname) as f:\n",
    "        for line in f:\n",
    "            yield line.strip()"
   ]
  },
  {
   "cell_type": "markdown",
   "id": "7987c3ff",
   "metadata": {},
   "source": [
    "### 8. Sort list of tuples"
   ]
  },
  {
   "cell_type": "code",
   "execution_count": null,
   "id": "bb41bc76",
   "metadata": {},
   "outputs": [],
   "source": [
    "data = [(1,5), (3,2), (4,8)]\n",
    "print(sorted(data, key=lambda x:x[1]))"
   ]
  },
  {
   "cell_type": "markdown",
   "id": "43269bd8",
   "metadata": {},
   "source": [
    "### 9. Map Celsius → Fahrenheit"
   ]
  },
  {
   "cell_type": "code",
   "execution_count": null,
   "id": "f80037dc",
   "metadata": {},
   "outputs": [],
   "source": [
    "celsius = [0, 20, 30, 40]\n",
    "fahrenheit = list(map(lambda c:(9/5)*c+32, celsius))\n",
    "print(fahrenheit)"
   ]
  },
  {
   "cell_type": "markdown",
   "id": "534f0560",
   "metadata": {},
   "source": [
    "### 10. Filter vowels"
   ]
  },
  {
   "cell_type": "code",
   "execution_count": null,
   "id": "e82993c8",
   "metadata": {},
   "outputs": [],
   "source": [
    "def remove_vowels(s):\n",
    "    return ''.join(filter(lambda x: x.lower() not in \"aeiou\", s))\n",
    "\n",
    "print(remove_vowels(\"beautiful\"))"
   ]
  },
  {
   "cell_type": "markdown",
   "id": "6dfe0ce0",
   "metadata": {},
   "source": [
    "### 11. Book shop accounting"
   ]
  },
  {
   "cell_type": "code",
   "execution_count": null,
   "id": "a35301d0",
   "metadata": {},
   "outputs": [],
   "source": [
    "orders = [\n",
    "    [34587, \"Learning Python\", 4, 40.95],\n",
    "    [98762, \"Programming\", 5, 56.80],\n",
    "    [77226, \"Data Science\", 3, 32.95],\n",
    "    [88112, \"Machine Learning\", 3, 24.99]\n",
    "]\n",
    "\n",
    "result = list(map(lambda order: \n",
    "    (order[0], order[2]*order[3] if order[2]*order[3]>=100 else order[2]*order[3]+10),\n",
    "    orders))\n",
    "\n",
    "print(result)"
   ]
  }
 ],
 "metadata": {},
 "nbformat": 4,
 "nbformat_minor": 5
}
